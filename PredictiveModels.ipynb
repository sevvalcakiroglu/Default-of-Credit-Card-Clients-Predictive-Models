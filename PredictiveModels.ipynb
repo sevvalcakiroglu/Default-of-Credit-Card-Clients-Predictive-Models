{
 "cells": [
  {
   "cell_type": "markdown",
   "metadata": {},
   "source": [
    "# Veri Kümesi\n",
    "\n",
    "Bu veri seti, Nisan 2005-Eylül 2005 tarihleri arasında Tayvan'da varsayılan ödemeler, nüfus faktörleri, kredi verisi, ödeme tarihi, kredi kartı müşteri fatura tabloları hakkında bilgileri içermektedir.\n",
    "\n",
    "İÇERİK\n",
    "•\tID: Her müşterinin ID'si\n",
    "•\tLIMIT_BAL: NT dolar cinsinden verilen kredi miktarı (bireysel ve aile/ek kredi dahil)\n",
    "•\tSEX: Cinsiyet (1=erkek, 2=kadın)\n",
    "•\tEDUCATION: (1=yüksek okul, 2=üniversite, 3=lise, 4=diğerleri, 5=bilinmiyor, 6=bilinmiyor)\n",
    "•\tMARRIAGE: Marital status (1=evli, 2=bekar, 3=diğerleri)\n",
    "•\tAGE: Yaş\n",
    "•\tPAY_0: 2005 yılı Eylül ayında geri ödeme durumu (-1 = usulüne uygun ödeme, 1 = bir ay ödeme gecikmesi, 2 = iki ay ödeme gecikmesi, ... 8 = sekiz ay ödeme gecikmesi, 9 = dokuz ay ve üstü ödeme gecikmesi)\n",
    "•\tPAY_2: Ağustos 2005’te geri ödeme durumu (yukarıdaki ile aynı ölçek)\n",
    "•\tPAY_3: Temmuz 2005’te geri ödeme durumu (yukarıdaki ile aynı ölçek)\n",
    "•\tPAY_4: Haziran 2005’te geri ödeme durumu (yukarıdaki ile aynı ölçek)\n",
    "•\tPAY_5: Mayıs 2005’te geri ödeme durumu (yukarıdaki ile aynı ölçek)\n",
    "•\tPAY_6: Nisan 2005’te geri ödeme durumu (yukarıdaki ile aynı ölçek)\n",
    "•\tBILL_AMT1: 2005 yılı Eylül ayında fatura beyanı tutarı (NT doları)\n",
    "•\tBILL_AMT2: Ağustos 2005’te fatura beyanı tutarı (NT doları)\n",
    "•\tBILL_AMT3: Temmuz 2005’te fatura beyanı tutarı (NT doları)\n",
    "•\tBILL_AMT4: Haziran 2005’te fatura beyanı tutarı (NT doları)\n",
    "•\tBILL_AMT5: Mayıs 2005’te fatura beyanı tutarı (NT doları)\n",
    "•\tBILL_AMT6: Nisan 2005’te fatura beyanı tutarı (NT doları))\n",
    "•\tPAY_AMT1: Eylül 2005’te önceki ödemenin tutarı (NT doları)\n",
    "•\tPAY_AMT2: Ağustos 2005’te önceki ödemenin tutarı (NT doları)\n",
    "•\tPAY_AMT3: Haziran 2005’te önceki ödemenin tutarı (NT doları)\n",
    "•\tPAY_AMT4: Mayıs 2005’te önceki ödemenin tutarı (NT doları)\n",
    "•\tPAY_AMT5: Mayıs 2005’te önceki ödemenin tutarı (NT doları))\n",
    "•\tPAY_AMT6: Nisan 2005’te önceki ödemenin tutarı (NT doları)\n",
    "•\tdefault.payment.next.month: Varsayılan ödeme (1 = evet, 0 = hayır)\n"
   ]
  },
  {
   "cell_type": "markdown",
   "metadata": {},
   "source": [
    "# Paketleri Yüklemek"
   ]
  },
  {
   "cell_type": "code",
   "execution_count": 1,
   "metadata": {},
   "outputs": [],
   "source": [
    "import pandas as pd\n",
    "import numpy as np\n",
    "\n",
    "import matplotlib.pyplot as plt\n",
    "import seaborn as sns\n",
    "from matplotlib.colors import ListedColormap\n",
    "\n",
    "from sklearn.model_selection import train_test_split\n",
    "from sklearn.preprocessing import StandardScaler\n",
    "\n",
    "from sklearn.neighbors import KNeighborsClassifier\n",
    "from sklearn.ensemble import RandomForestClassifier\n",
    "from sklearn.naive_bayes import GaussianNB\n",
    "from sklearn.svm import SVC\n",
    "from xgboost import XGBClassifier\n",
    "from sklearn.linear_model import LogisticRegression\n",
    "\n",
    "from sklearn.metrics import accuracy_score, precision_score, recall_score, f1_score\n",
    "from sklearn.metrics import confusion_matrix , classification_report\n",
    "from sklearn.model_selection import GridSearchCV \n",
    "from sklearn.model_selection import cross_val_score"
   ]
  },
  {
   "cell_type": "markdown",
   "metadata": {},
   "source": [
    "# Veriyi okutma ve veri hakkından bilgi edinmek."
   ]
  },
  {
   "cell_type": "code",
   "execution_count": 2,
   "metadata": {},
   "outputs": [
    {
     "data": {
      "text/html": [
       "<div>\n",
       "<style scoped>\n",
       "    .dataframe tbody tr th:only-of-type {\n",
       "        vertical-align: middle;\n",
       "    }\n",
       "\n",
       "    .dataframe tbody tr th {\n",
       "        vertical-align: top;\n",
       "    }\n",
       "\n",
       "    .dataframe thead th {\n",
       "        text-align: right;\n",
       "    }\n",
       "</style>\n",
       "<table border=\"1\" class=\"dataframe\">\n",
       "  <thead>\n",
       "    <tr style=\"text-align: right;\">\n",
       "      <th></th>\n",
       "      <th>ID</th>\n",
       "      <th>LIMIT_BAL</th>\n",
       "      <th>SEX</th>\n",
       "      <th>EDUCATION</th>\n",
       "      <th>MARRIAGE</th>\n",
       "      <th>AGE</th>\n",
       "      <th>PAY_0</th>\n",
       "      <th>PAY_2</th>\n",
       "      <th>PAY_3</th>\n",
       "      <th>PAY_4</th>\n",
       "      <th>...</th>\n",
       "      <th>BILL_AMT4</th>\n",
       "      <th>BILL_AMT5</th>\n",
       "      <th>BILL_AMT6</th>\n",
       "      <th>PAY_AMT1</th>\n",
       "      <th>PAY_AMT2</th>\n",
       "      <th>PAY_AMT3</th>\n",
       "      <th>PAY_AMT4</th>\n",
       "      <th>PAY_AMT5</th>\n",
       "      <th>PAY_AMT6</th>\n",
       "      <th>default payment next month</th>\n",
       "    </tr>\n",
       "  </thead>\n",
       "  <tbody>\n",
       "    <tr>\n",
       "      <th>count</th>\n",
       "      <td>30000.000000</td>\n",
       "      <td>30000.000000</td>\n",
       "      <td>30000.000000</td>\n",
       "      <td>30000.000000</td>\n",
       "      <td>30000.000000</td>\n",
       "      <td>30000.000000</td>\n",
       "      <td>30000.000000</td>\n",
       "      <td>30000.000000</td>\n",
       "      <td>30000.000000</td>\n",
       "      <td>30000.000000</td>\n",
       "      <td>...</td>\n",
       "      <td>30000.000000</td>\n",
       "      <td>30000.000000</td>\n",
       "      <td>30000.000000</td>\n",
       "      <td>30000.000000</td>\n",
       "      <td>3.000000e+04</td>\n",
       "      <td>30000.00000</td>\n",
       "      <td>30000.000000</td>\n",
       "      <td>30000.000000</td>\n",
       "      <td>30000.000000</td>\n",
       "      <td>30000.000000</td>\n",
       "    </tr>\n",
       "    <tr>\n",
       "      <th>mean</th>\n",
       "      <td>15000.500000</td>\n",
       "      <td>167484.322667</td>\n",
       "      <td>1.603733</td>\n",
       "      <td>1.853133</td>\n",
       "      <td>1.551867</td>\n",
       "      <td>35.485500</td>\n",
       "      <td>-0.016700</td>\n",
       "      <td>-0.133767</td>\n",
       "      <td>-0.166200</td>\n",
       "      <td>-0.220667</td>\n",
       "      <td>...</td>\n",
       "      <td>43262.948967</td>\n",
       "      <td>40311.400967</td>\n",
       "      <td>38871.760400</td>\n",
       "      <td>5663.580500</td>\n",
       "      <td>5.921163e+03</td>\n",
       "      <td>5225.68150</td>\n",
       "      <td>4826.076867</td>\n",
       "      <td>4799.387633</td>\n",
       "      <td>5215.502567</td>\n",
       "      <td>0.221200</td>\n",
       "    </tr>\n",
       "    <tr>\n",
       "      <th>std</th>\n",
       "      <td>8660.398374</td>\n",
       "      <td>129747.661567</td>\n",
       "      <td>0.489129</td>\n",
       "      <td>0.790349</td>\n",
       "      <td>0.521970</td>\n",
       "      <td>9.217904</td>\n",
       "      <td>1.123802</td>\n",
       "      <td>1.197186</td>\n",
       "      <td>1.196868</td>\n",
       "      <td>1.169139</td>\n",
       "      <td>...</td>\n",
       "      <td>64332.856134</td>\n",
       "      <td>60797.155770</td>\n",
       "      <td>59554.107537</td>\n",
       "      <td>16563.280354</td>\n",
       "      <td>2.304087e+04</td>\n",
       "      <td>17606.96147</td>\n",
       "      <td>15666.159744</td>\n",
       "      <td>15278.305679</td>\n",
       "      <td>17777.465775</td>\n",
       "      <td>0.415062</td>\n",
       "    </tr>\n",
       "    <tr>\n",
       "      <th>min</th>\n",
       "      <td>1.000000</td>\n",
       "      <td>10000.000000</td>\n",
       "      <td>1.000000</td>\n",
       "      <td>0.000000</td>\n",
       "      <td>0.000000</td>\n",
       "      <td>21.000000</td>\n",
       "      <td>-2.000000</td>\n",
       "      <td>-2.000000</td>\n",
       "      <td>-2.000000</td>\n",
       "      <td>-2.000000</td>\n",
       "      <td>...</td>\n",
       "      <td>-170000.000000</td>\n",
       "      <td>-81334.000000</td>\n",
       "      <td>-339603.000000</td>\n",
       "      <td>0.000000</td>\n",
       "      <td>0.000000e+00</td>\n",
       "      <td>0.00000</td>\n",
       "      <td>0.000000</td>\n",
       "      <td>0.000000</td>\n",
       "      <td>0.000000</td>\n",
       "      <td>0.000000</td>\n",
       "    </tr>\n",
       "    <tr>\n",
       "      <th>25%</th>\n",
       "      <td>7500.750000</td>\n",
       "      <td>50000.000000</td>\n",
       "      <td>1.000000</td>\n",
       "      <td>1.000000</td>\n",
       "      <td>1.000000</td>\n",
       "      <td>28.000000</td>\n",
       "      <td>-1.000000</td>\n",
       "      <td>-1.000000</td>\n",
       "      <td>-1.000000</td>\n",
       "      <td>-1.000000</td>\n",
       "      <td>...</td>\n",
       "      <td>2326.750000</td>\n",
       "      <td>1763.000000</td>\n",
       "      <td>1256.000000</td>\n",
       "      <td>1000.000000</td>\n",
       "      <td>8.330000e+02</td>\n",
       "      <td>390.00000</td>\n",
       "      <td>296.000000</td>\n",
       "      <td>252.500000</td>\n",
       "      <td>117.750000</td>\n",
       "      <td>0.000000</td>\n",
       "    </tr>\n",
       "    <tr>\n",
       "      <th>50%</th>\n",
       "      <td>15000.500000</td>\n",
       "      <td>140000.000000</td>\n",
       "      <td>2.000000</td>\n",
       "      <td>2.000000</td>\n",
       "      <td>2.000000</td>\n",
       "      <td>34.000000</td>\n",
       "      <td>0.000000</td>\n",
       "      <td>0.000000</td>\n",
       "      <td>0.000000</td>\n",
       "      <td>0.000000</td>\n",
       "      <td>...</td>\n",
       "      <td>19052.000000</td>\n",
       "      <td>18104.500000</td>\n",
       "      <td>17071.000000</td>\n",
       "      <td>2100.000000</td>\n",
       "      <td>2.009000e+03</td>\n",
       "      <td>1800.00000</td>\n",
       "      <td>1500.000000</td>\n",
       "      <td>1500.000000</td>\n",
       "      <td>1500.000000</td>\n",
       "      <td>0.000000</td>\n",
       "    </tr>\n",
       "    <tr>\n",
       "      <th>75%</th>\n",
       "      <td>22500.250000</td>\n",
       "      <td>240000.000000</td>\n",
       "      <td>2.000000</td>\n",
       "      <td>2.000000</td>\n",
       "      <td>2.000000</td>\n",
       "      <td>41.000000</td>\n",
       "      <td>0.000000</td>\n",
       "      <td>0.000000</td>\n",
       "      <td>0.000000</td>\n",
       "      <td>0.000000</td>\n",
       "      <td>...</td>\n",
       "      <td>54506.000000</td>\n",
       "      <td>50190.500000</td>\n",
       "      <td>49198.250000</td>\n",
       "      <td>5006.000000</td>\n",
       "      <td>5.000000e+03</td>\n",
       "      <td>4505.00000</td>\n",
       "      <td>4013.250000</td>\n",
       "      <td>4031.500000</td>\n",
       "      <td>4000.000000</td>\n",
       "      <td>0.000000</td>\n",
       "    </tr>\n",
       "    <tr>\n",
       "      <th>max</th>\n",
       "      <td>30000.000000</td>\n",
       "      <td>1000000.000000</td>\n",
       "      <td>2.000000</td>\n",
       "      <td>6.000000</td>\n",
       "      <td>3.000000</td>\n",
       "      <td>79.000000</td>\n",
       "      <td>8.000000</td>\n",
       "      <td>8.000000</td>\n",
       "      <td>8.000000</td>\n",
       "      <td>8.000000</td>\n",
       "      <td>...</td>\n",
       "      <td>891586.000000</td>\n",
       "      <td>927171.000000</td>\n",
       "      <td>961664.000000</td>\n",
       "      <td>873552.000000</td>\n",
       "      <td>1.684259e+06</td>\n",
       "      <td>896040.00000</td>\n",
       "      <td>621000.000000</td>\n",
       "      <td>426529.000000</td>\n",
       "      <td>528666.000000</td>\n",
       "      <td>1.000000</td>\n",
       "    </tr>\n",
       "  </tbody>\n",
       "</table>\n",
       "<p>8 rows × 25 columns</p>\n",
       "</div>"
      ],
      "text/plain": [
       "                 ID       LIMIT_BAL           SEX     EDUCATION      MARRIAGE  \\\n",
       "count  30000.000000    30000.000000  30000.000000  30000.000000  30000.000000   \n",
       "mean   15000.500000   167484.322667      1.603733      1.853133      1.551867   \n",
       "std     8660.398374   129747.661567      0.489129      0.790349      0.521970   \n",
       "min        1.000000    10000.000000      1.000000      0.000000      0.000000   \n",
       "25%     7500.750000    50000.000000      1.000000      1.000000      1.000000   \n",
       "50%    15000.500000   140000.000000      2.000000      2.000000      2.000000   \n",
       "75%    22500.250000   240000.000000      2.000000      2.000000      2.000000   \n",
       "max    30000.000000  1000000.000000      2.000000      6.000000      3.000000   \n",
       "\n",
       "                AGE         PAY_0         PAY_2         PAY_3         PAY_4  \\\n",
       "count  30000.000000  30000.000000  30000.000000  30000.000000  30000.000000   \n",
       "mean      35.485500     -0.016700     -0.133767     -0.166200     -0.220667   \n",
       "std        9.217904      1.123802      1.197186      1.196868      1.169139   \n",
       "min       21.000000     -2.000000     -2.000000     -2.000000     -2.000000   \n",
       "25%       28.000000     -1.000000     -1.000000     -1.000000     -1.000000   \n",
       "50%       34.000000      0.000000      0.000000      0.000000      0.000000   \n",
       "75%       41.000000      0.000000      0.000000      0.000000      0.000000   \n",
       "max       79.000000      8.000000      8.000000      8.000000      8.000000   \n",
       "\n",
       "       ...      BILL_AMT4      BILL_AMT5      BILL_AMT6       PAY_AMT1  \\\n",
       "count  ...   30000.000000   30000.000000   30000.000000   30000.000000   \n",
       "mean   ...   43262.948967   40311.400967   38871.760400    5663.580500   \n",
       "std    ...   64332.856134   60797.155770   59554.107537   16563.280354   \n",
       "min    ... -170000.000000  -81334.000000 -339603.000000       0.000000   \n",
       "25%    ...    2326.750000    1763.000000    1256.000000    1000.000000   \n",
       "50%    ...   19052.000000   18104.500000   17071.000000    2100.000000   \n",
       "75%    ...   54506.000000   50190.500000   49198.250000    5006.000000   \n",
       "max    ...  891586.000000  927171.000000  961664.000000  873552.000000   \n",
       "\n",
       "           PAY_AMT2      PAY_AMT3       PAY_AMT4       PAY_AMT5  \\\n",
       "count  3.000000e+04   30000.00000   30000.000000   30000.000000   \n",
       "mean   5.921163e+03    5225.68150    4826.076867    4799.387633   \n",
       "std    2.304087e+04   17606.96147   15666.159744   15278.305679   \n",
       "min    0.000000e+00       0.00000       0.000000       0.000000   \n",
       "25%    8.330000e+02     390.00000     296.000000     252.500000   \n",
       "50%    2.009000e+03    1800.00000    1500.000000    1500.000000   \n",
       "75%    5.000000e+03    4505.00000    4013.250000    4031.500000   \n",
       "max    1.684259e+06  896040.00000  621000.000000  426529.000000   \n",
       "\n",
       "            PAY_AMT6  default payment next month  \n",
       "count   30000.000000                30000.000000  \n",
       "mean     5215.502567                    0.221200  \n",
       "std     17777.465775                    0.415062  \n",
       "min         0.000000                    0.000000  \n",
       "25%       117.750000                    0.000000  \n",
       "50%      1500.000000                    0.000000  \n",
       "75%      4000.000000                    0.000000  \n",
       "max    528666.000000                    1.000000  \n",
       "\n",
       "[8 rows x 25 columns]"
      ]
     },
     "execution_count": 2,
     "metadata": {},
     "output_type": "execute_result"
    }
   ],
   "source": [
    "df = pd.read_excel('defaultofcreitcardclients.xls')\n",
    "df.describe()"
   ]
  },
  {
   "cell_type": "markdown",
   "metadata": {},
   "source": [
    "# Veriyi yorumlama\n",
    "\n",
    "30.000 ayrı kredi kartı müşterisi var.\n",
    "\n",
    "Kredi kartı limiti tutarı için ortalama değer 167,484'tür. Standart sapma alışılmadık derecede büyük, maksimum değer 1M.\n",
    "\n",
    "Eğitim seviyesi çoğunlukla lisansüstü okul ve üniversitedir.\n",
    "\n",
    "Müşterilerin çoğu ya evlenir ya da bekardır (diğer statüden daha az sıklıkta).\n",
    "\n",
    "Ortalama yaş, standart sapma 9.2 olan 35.5'tir\n",
    "\n",
    "Varsayılan ödeme için 0 değeri 'varsayılan değil' ve 1 değeri 'varsayılan' anlamına geldiğinden, 0.221'in ortalaması, gelecek ay varsayılan olacak kredi kartı sözleşmelerinin% 22.1'i olduğu anlamına gelir (bunu bu analizin sonraki bölümlerinde doğrular) )."
   ]
  },
  {
   "cell_type": "markdown",
   "metadata": {},
   "source": [
    "# Eksik verileri kontrol etmek."
   ]
  },
  {
   "cell_type": "code",
   "execution_count": 3,
   "metadata": {},
   "outputs": [
    {
     "data": {
      "text/html": [
       "<div>\n",
       "<style scoped>\n",
       "    .dataframe tbody tr th:only-of-type {\n",
       "        vertical-align: middle;\n",
       "    }\n",
       "\n",
       "    .dataframe tbody tr th {\n",
       "        vertical-align: top;\n",
       "    }\n",
       "\n",
       "    .dataframe thead th {\n",
       "        text-align: right;\n",
       "    }\n",
       "</style>\n",
       "<table border=\"1\" class=\"dataframe\">\n",
       "  <thead>\n",
       "    <tr style=\"text-align: right;\">\n",
       "      <th></th>\n",
       "      <th>default payment next month</th>\n",
       "      <th>PAY_6</th>\n",
       "      <th>LIMIT_BAL</th>\n",
       "      <th>SEX</th>\n",
       "      <th>EDUCATION</th>\n",
       "      <th>MARRIAGE</th>\n",
       "      <th>AGE</th>\n",
       "      <th>PAY_0</th>\n",
       "      <th>PAY_2</th>\n",
       "      <th>PAY_3</th>\n",
       "      <th>...</th>\n",
       "      <th>BILL_AMT3</th>\n",
       "      <th>BILL_AMT4</th>\n",
       "      <th>BILL_AMT5</th>\n",
       "      <th>BILL_AMT6</th>\n",
       "      <th>PAY_AMT1</th>\n",
       "      <th>PAY_AMT2</th>\n",
       "      <th>PAY_AMT3</th>\n",
       "      <th>PAY_AMT4</th>\n",
       "      <th>PAY_AMT5</th>\n",
       "      <th>ID</th>\n",
       "    </tr>\n",
       "  </thead>\n",
       "  <tbody>\n",
       "    <tr>\n",
       "      <th>Total</th>\n",
       "      <td>0.0</td>\n",
       "      <td>0.0</td>\n",
       "      <td>0.0</td>\n",
       "      <td>0.0</td>\n",
       "      <td>0.0</td>\n",
       "      <td>0.0</td>\n",
       "      <td>0.0</td>\n",
       "      <td>0.0</td>\n",
       "      <td>0.0</td>\n",
       "      <td>0.0</td>\n",
       "      <td>...</td>\n",
       "      <td>0.0</td>\n",
       "      <td>0.0</td>\n",
       "      <td>0.0</td>\n",
       "      <td>0.0</td>\n",
       "      <td>0.0</td>\n",
       "      <td>0.0</td>\n",
       "      <td>0.0</td>\n",
       "      <td>0.0</td>\n",
       "      <td>0.0</td>\n",
       "      <td>0.0</td>\n",
       "    </tr>\n",
       "    <tr>\n",
       "      <th>Percent</th>\n",
       "      <td>0.0</td>\n",
       "      <td>0.0</td>\n",
       "      <td>0.0</td>\n",
       "      <td>0.0</td>\n",
       "      <td>0.0</td>\n",
       "      <td>0.0</td>\n",
       "      <td>0.0</td>\n",
       "      <td>0.0</td>\n",
       "      <td>0.0</td>\n",
       "      <td>0.0</td>\n",
       "      <td>...</td>\n",
       "      <td>0.0</td>\n",
       "      <td>0.0</td>\n",
       "      <td>0.0</td>\n",
       "      <td>0.0</td>\n",
       "      <td>0.0</td>\n",
       "      <td>0.0</td>\n",
       "      <td>0.0</td>\n",
       "      <td>0.0</td>\n",
       "      <td>0.0</td>\n",
       "      <td>0.0</td>\n",
       "    </tr>\n",
       "  </tbody>\n",
       "</table>\n",
       "<p>2 rows × 25 columns</p>\n",
       "</div>"
      ],
      "text/plain": [
       "         default payment next month  PAY_6  LIMIT_BAL  SEX  EDUCATION  \\\n",
       "Total                           0.0    0.0        0.0  0.0        0.0   \n",
       "Percent                         0.0    0.0        0.0  0.0        0.0   \n",
       "\n",
       "         MARRIAGE  AGE  PAY_0  PAY_2  PAY_3  ...  BILL_AMT3  BILL_AMT4  \\\n",
       "Total         0.0  0.0    0.0    0.0    0.0  ...        0.0        0.0   \n",
       "Percent       0.0  0.0    0.0    0.0    0.0  ...        0.0        0.0   \n",
       "\n",
       "         BILL_AMT5  BILL_AMT6  PAY_AMT1  PAY_AMT2  PAY_AMT3  PAY_AMT4  \\\n",
       "Total          0.0        0.0       0.0       0.0       0.0       0.0   \n",
       "Percent        0.0        0.0       0.0       0.0       0.0       0.0   \n",
       "\n",
       "         PAY_AMT5   ID  \n",
       "Total         0.0  0.0  \n",
       "Percent       0.0  0.0  \n",
       "\n",
       "[2 rows x 25 columns]"
      ]
     },
     "execution_count": 3,
     "metadata": {},
     "output_type": "execute_result"
    }
   ],
   "source": [
    "total = df.isnull().sum().sort_values(ascending = False)\n",
    "percent = (df.isnull().sum()/df.isnull().count()*100).sort_values(ascending = False)\n",
    "pd.concat([total, percent], axis=1, keys=['Total', 'Percent']).transpose()"
   ]
  },
  {
   "cell_type": "markdown",
   "metadata": {},
   "source": [
    "# Veri Keşfi (Data Exploration)"
   ]
  },
  {
   "cell_type": "code",
   "execution_count": 4,
   "metadata": {},
   "outputs": [
    {
     "data": {
      "image/png": "[encoded data removed]",
      "text/plain": [
       "<Figure size 1008x432 with 1 Axes>"
      ]
     },
     "metadata": {
      "needs_background": "light"
     },
     "output_type": "display_data"
    }
   ],
   "source": [
    "plt.figure(figsize = (14,6))\n",
    "plt.title('Amount of credit limit - Density Plot')\n",
    "sns.set_color_codes(\"pastel\")\n",
    "sns.distplot(df['LIMIT_BAL'],kde=True,bins=200, color=\"blue\")\n",
    "plt.show()"
   ]
  },
  {
   "cell_type": "markdown",
   "metadata": {},
   "source": [
    "En büyük kredi limiti tutarı grubu, görünüşe göre 50 bin tutarında. Bunu doğrulayalım."
   ]
  },
  {
   "cell_type": "code",
   "execution_count": 5,
   "metadata": {},
   "outputs": [
    {
     "data": {
      "text/plain": [
       "50000     3365\n",
       "20000     1976\n",
       "30000     1610\n",
       "80000     1567\n",
       "200000    1528\n",
       "Name: LIMIT_BAL, dtype: int64"
      ]
     },
     "execution_count": 5,
     "metadata": {},
     "output_type": "execute_result"
    }
   ],
   "source": [
    "df['LIMIT_BAL'].value_counts().head(5)"
   ]
  },
  {
   "cell_type": "markdown",
   "metadata": {},
   "source": [
    "En fazla kredi kartı sayısı 50.000 (3365), ardından 20.000 (1976) ve 30.000 (1610) ile sınırlıdır."
   ]
  },
  {
   "cell_type": "markdown",
   "metadata": {},
   "source": [
    "# Korelasyon Matrisi\n",
    "\n",
    "İki veya daha fazla bağımsız değişken (öznitelik)arasındaki ilişkinin varlığı, bu ilişkinin yönü ve şiddeti; korelasyon analizi ve sonucunda elde edilen korelasyon katsayısı ile belirlenir.\n",
    "\n",
    "Korelasyon katsayısı “r”, “-1” ve “1” arasında değişen değerler alır. Değer sonuçları ile ilgili yorumlar aşağıdaki gibidir:\n",
    "r = -1 → negatif yönlü mükemmel bir ilişki\n",
    "r = 1 → pozitif yönlü mükemmel bir ilişki\n",
    "r = 0 → ilişki yok\n",
    "r = 0.8 → pozitif yönlü iyi bir ilişki\n",
    "r = -0.6 → negatif yönlü orta seviye bir ilişki\n",
    "\n",
    "Veri kümesinde yer alan tüm öznitelikler arasındaki korelasyon katsayısı değerlerini içeren matrisi hesaplamak için aşağıdaki kod parçası kullanılır.\n"
   ]
  },
  {
   "cell_type": "code",
   "execution_count": 6,
   "metadata": {},
   "outputs": [
    {
     "data": {
      "text/plain": [
       "<matplotlib.axes._subplots.AxesSubplot at 0x238e7060ac8>"
      ]
     },
     "execution_count": 6,
     "metadata": {},
     "output_type": "execute_result"
    },
    {
     "data": {
      "image/png": "[encoded data removed]",
      "text/plain": [
       "<Figure size 432x288 with 2 Axes>"
      ]
     },
     "metadata": {
      "needs_background": "light"
     },
     "output_type": "display_data"
    }
   ],
   "source": [
    "corr=df.corr()\n",
    "sns.heatmap(corr)"
   ]
  },
  {
   "cell_type": "markdown",
   "metadata": {},
   "source": [
    "# Korelasyon matrisine göre birbiriyle fazla korele olmuş değişkenler elenir."
   ]
  },
  {
   "cell_type": "code",
   "execution_count": 7,
   "metadata": {},
   "outputs": [],
   "source": [
    "columns = np.full((corr.shape[0],), True, dtype=bool)\n",
    "for i in range(corr.shape[0]):\n",
    "    for j in range(i+1, corr.shape[0]):\n",
    "        if corr.iloc[i,j] >= 0.9:\n",
    "            if columns[j]:\n",
    "                columns[j] = False\n",
    "selected_columns = df.columns[columns]\n",
    "df = df[selected_columns]"
   ]
  },
  {
   "cell_type": "markdown",
   "metadata": {},
   "source": [
    "# Eğitim-Test Veri parçalaması\n",
    "\n",
    "Modelimiz için kullanacağımız veri setini eğitim ve test veri seti olarak iki parçaya ayırıyoruz.  Eğitim verisi ile modeli eğitirken, test verimizi kullanarakta eğitim verisi ile öğrenmiş  modelimizin başarısını değerlendiriyoruz. Bölünme işlemi genellikle 66/34 şeklinde yapılmaktadır %66 eğitim verisi iken %34’lük kısım test olarak ayrılmaktadır. Bu işlem için  sklearn.crossvalidation kütüphanesinin  train_test_split() metodunu içeri aktarıyoruz."
   ]
  },
  {
   "cell_type": "code",
   "execution_count": 8,
   "metadata": {
    "scrolled": true
   },
   "outputs": [
    {
     "data": {
      "text/html": [
       "<div>\n",
       "<style scoped>\n",
       "    .dataframe tbody tr th:only-of-type {\n",
       "        vertical-align: middle;\n",
       "    }\n",
       "\n",
       "    .dataframe tbody tr th {\n",
       "        vertical-align: top;\n",
       "    }\n",
       "\n",
       "    .dataframe thead th {\n",
       "        text-align: right;\n",
       "    }\n",
       "</style>\n",
       "<table border=\"1\" class=\"dataframe\">\n",
       "  <thead>\n",
       "    <tr style=\"text-align: right;\">\n",
       "      <th></th>\n",
       "      <th>LIMIT_BAL</th>\n",
       "      <th>SEX</th>\n",
       "      <th>EDUCATION</th>\n",
       "      <th>MARRIAGE</th>\n",
       "      <th>AGE</th>\n",
       "      <th>PAY_0</th>\n",
       "      <th>PAY_2</th>\n",
       "      <th>PAY_3</th>\n",
       "      <th>PAY_4</th>\n",
       "      <th>PAY_5</th>\n",
       "      <th>PAY_6</th>\n",
       "      <th>BILL_AMT1</th>\n",
       "      <th>PAY_AMT1</th>\n",
       "      <th>PAY_AMT2</th>\n",
       "      <th>PAY_AMT3</th>\n",
       "      <th>PAY_AMT4</th>\n",
       "      <th>PAY_AMT5</th>\n",
       "      <th>PAY_AMT6</th>\n",
       "    </tr>\n",
       "  </thead>\n",
       "  <tbody>\n",
       "    <tr>\n",
       "      <th>21177</th>\n",
       "      <td>300000</td>\n",
       "      <td>1</td>\n",
       "      <td>3</td>\n",
       "      <td>2</td>\n",
       "      <td>31</td>\n",
       "      <td>0</td>\n",
       "      <td>0</td>\n",
       "      <td>0</td>\n",
       "      <td>0</td>\n",
       "      <td>0</td>\n",
       "      <td>0</td>\n",
       "      <td>80928</td>\n",
       "      <td>4000</td>\n",
       "      <td>4000</td>\n",
       "      <td>4100</td>\n",
       "      <td>3300</td>\n",
       "      <td>3500</td>\n",
       "      <td>3500</td>\n",
       "    </tr>\n",
       "    <tr>\n",
       "      <th>23942</th>\n",
       "      <td>20000</td>\n",
       "      <td>1</td>\n",
       "      <td>2</td>\n",
       "      <td>2</td>\n",
       "      <td>24</td>\n",
       "      <td>0</td>\n",
       "      <td>0</td>\n",
       "      <td>0</td>\n",
       "      <td>0</td>\n",
       "      <td>0</td>\n",
       "      <td>0</td>\n",
       "      <td>15730</td>\n",
       "      <td>1313</td>\n",
       "      <td>2110</td>\n",
       "      <td>4000</td>\n",
       "      <td>6000</td>\n",
       "      <td>4000</td>\n",
       "      <td>174</td>\n",
       "    </tr>\n",
       "    <tr>\n",
       "      <th>1247</th>\n",
       "      <td>90000</td>\n",
       "      <td>2</td>\n",
       "      <td>2</td>\n",
       "      <td>2</td>\n",
       "      <td>35</td>\n",
       "      <td>-1</td>\n",
       "      <td>-1</td>\n",
       "      <td>-1</td>\n",
       "      <td>-2</td>\n",
       "      <td>-2</td>\n",
       "      <td>-2</td>\n",
       "      <td>2667</td>\n",
       "      <td>2667</td>\n",
       "      <td>0</td>\n",
       "      <td>0</td>\n",
       "      <td>0</td>\n",
       "      <td>0</td>\n",
       "      <td>0</td>\n",
       "    </tr>\n",
       "    <tr>\n",
       "      <th>23622</th>\n",
       "      <td>300000</td>\n",
       "      <td>2</td>\n",
       "      <td>2</td>\n",
       "      <td>1</td>\n",
       "      <td>40</td>\n",
       "      <td>1</td>\n",
       "      <td>-2</td>\n",
       "      <td>-2</td>\n",
       "      <td>-2</td>\n",
       "      <td>-2</td>\n",
       "      <td>-2</td>\n",
       "      <td>0</td>\n",
       "      <td>0</td>\n",
       "      <td>0</td>\n",
       "      <td>0</td>\n",
       "      <td>0</td>\n",
       "      <td>0</td>\n",
       "      <td>0</td>\n",
       "    </tr>\n",
       "    <tr>\n",
       "      <th>28454</th>\n",
       "      <td>70000</td>\n",
       "      <td>2</td>\n",
       "      <td>2</td>\n",
       "      <td>2</td>\n",
       "      <td>36</td>\n",
       "      <td>0</td>\n",
       "      <td>0</td>\n",
       "      <td>0</td>\n",
       "      <td>0</td>\n",
       "      <td>0</td>\n",
       "      <td>0</td>\n",
       "      <td>68028</td>\n",
       "      <td>3340</td>\n",
       "      <td>2044</td>\n",
       "      <td>1773</td>\n",
       "      <td>1181</td>\n",
       "      <td>1215</td>\n",
       "      <td>1297</td>\n",
       "    </tr>\n",
       "  </tbody>\n",
       "</table>\n",
       "</div>"
      ],
      "text/plain": [
       "       LIMIT_BAL  SEX  EDUCATION  MARRIAGE  AGE  PAY_0  PAY_2  PAY_3  PAY_4  \\\n",
       "21177     300000    1          3         2   31      0      0      0      0   \n",
       "23942      20000    1          2         2   24      0      0      0      0   \n",
       "1247       90000    2          2         2   35     -1     -1     -1     -2   \n",
       "23622     300000    2          2         1   40      1     -2     -2     -2   \n",
       "28454      70000    2          2         2   36      0      0      0      0   \n",
       "\n",
       "       PAY_5  PAY_6  BILL_AMT1  PAY_AMT1  PAY_AMT2  PAY_AMT3  PAY_AMT4  \\\n",
       "21177      0      0      80928      4000      4000      4100      3300   \n",
       "23942      0      0      15730      1313      2110      4000      6000   \n",
       "1247      -2     -2       2667      2667         0         0         0   \n",
       "23622     -2     -2          0         0         0         0         0   \n",
       "28454      0      0      68028      3340      2044      1773      1181   \n",
       "\n",
       "       PAY_AMT5  PAY_AMT6  \n",
       "21177      3500      3500  \n",
       "23942      4000       174  \n",
       "1247          0         0  \n",
       "23622         0         0  \n",
       "28454      1215      1297  "
      ]
     },
     "execution_count": 8,
     "metadata": {},
     "output_type": "execute_result"
    }
   ],
   "source": [
    "list=['ID','default payment next month']\n",
    "y=df['default payment next month']\n",
    "X=df.drop(list, axis=1)\n",
    "X_train, X_test, y_train, y_test = train_test_split(X, y, test_size=0.25, random_state=42)\n",
    "X_train.head()"
   ]
  },
  {
   "cell_type": "markdown",
   "metadata": {},
   "source": [
    "# Ölçeklendirme \n",
    "\n",
    "Makine öğrenmesi algoritmalarının çoğu hesaplamalarında uzaklık metriklerinden olan  iki veri noktası arasındaki mesafeyi ölçen  Öklid formülünü kullanır. Tüm değerlerin eşit olarak katkıda bulunmasını sağlamak için değerler aynı birime getirilmesi gerekmektedir. Büyüklük bakımından oldukça değişkenlik gösteren veriler mesafe hesaplamalarında, ağırlık hesaplamalarında düşük değerdeki özelliklerden daha ağır basacağından varyansı artıracaktır ve eşit etki etmeyeceklerdir. Özellik standardizasyonu yöntemi  ile veriler ölçeklendirilir. Bu işlem için python da Sklearn.preprocessing kütüphanesinin  StandardScaler metodu  içe aktarılıp kullanılmkatadır."
   ]
  },
  {
   "cell_type": "code",
   "execution_count": 13,
   "metadata": {},
   "outputs": [],
   "source": [
    "scaler=StandardScaler()\n",
    "X_train = scaler.fit_transform(X_train)\n",
    "X_test = scaler.transform(X_test)"
   ]
  },
  {
   "cell_type": "markdown",
   "metadata": {},
   "source": [
    "# KNeighborsClassifier\n",
    "\n",
    "K-en yakın komşuluk (KNN) algoritması, uygulaması kolay gözetimli öğrenme algoritmalarındandır. Neredeyse hiç bir eğitim modeli gerekmez. Temelde eğitim verisini tarar ve hafızada tutar.Hem sınıflandırma hem de regresyon analizi icin kullanilabilir. \n",
    "Örnek veri setine katılacak olan yeni verinin, mevcut verilere göre uzaklığı hesaplanıp, k sayıda yakın komşuluğuna bakılır. Uzaklık hesapları için genelde 3 tip uzaklık fonksiyonu kullanılmaktadır:\n",
    "\"Euclidean\" Uzaklık\n",
    "\"Manhattan\" Uzaklık\n",
    "\"Minkowski\" Uzaklığı’dır.\n",
    "\n",
    "Parametreleri:\n",
    "n_neighbors:Kullanılacak komşu sayısı.\n",
    "weights:Tahminde kullanılan ağırlık fonksiyonu.\n",
    "metric:Ağaç için kullanılacak mesafe ölçüsü.\n",
    "\n",
    "\n",
    "KNN NASIL DAHA GÜÇLÜ BİR ALGORİTMA HALİNE GETİRİLEBİLİR?\n",
    "• İyi bir K değeri belirlemek:\n",
    " -K değeri küçük seçilirse modelimiz gürültüye karşı çok hassaslaşır yani\n",
    "gürültü de modelimiz tarafından kullanılır.\n",
    " -K-değeri çok büyük seçilirse çok farklı komşuluklardan çok fazla komşu gelir\n",
    "ve model iyi tahmin yapamaz.\n",
    "• K-nn içinde uzaklıklar çok dağınık ise bu problem oluşturu ve bu durumda\n",
    "uzaklığa bağlı bir ağırlık sistemi kullanılmalıdır. "
   ]
  },
  {
   "cell_type": "code",
   "execution_count": 14,
   "metadata": {},
   "outputs": [
    {
     "name": "stdout",
     "output_type": "stream",
     "text": [
      "Knn Train Score: 0.8421777777777778\n",
      "Knn Test Score: 0.796\n"
     ]
    }
   ],
   "source": [
    "knn=KNeighborsClassifier()\n",
    "knn.fit(X_train,y_train)\n",
    "print('Knn Train Score:', knn.score(X_train,y_train))\n",
    "print('Knn Test Score:', knn.score(X_test,y_test))"
   ]
  },
  {
   "cell_type": "code",
   "execution_count": 15,
   "metadata": {},
   "outputs": [
    {
     "name": "stdout",
     "output_type": "stream",
     "text": [
      "En iyi score 0.8139111111111111\n",
      "En iyi parametreler {'metric': 'euclidean', 'n_neighbors': 19, 'weights': 'uniform'}\n",
      "Knn Train Yeni Score: 0.8229777777777778\n",
      "Knn Test Yeni Score: 0.8112\n"
     ]
    }
   ],
   "source": [
    "grid_params={'n_neighbors':[3,5,11,19],\n",
    "            'weights':['uniform','distance'],\n",
    "            'metric':['euclidean','manhattan']}\n",
    "\n",
    "gs = GridSearchCV(knn,\n",
    "                 grid_params,\n",
    "                 cv=3,\n",
    "                 )\n",
    "gs_results = gs.fit(X_train, y_train)\n",
    "print('En iyi score',gs_results.best_score_)\n",
    "print('En iyi parametreler',gs_results.best_params_)\n",
    "print('Knn Train Yeni Score:', gs.score(X_train,y_train))\n",
    "print('Knn Test Yeni Score:', gs.score(X_test,y_test))\n"
   ]
  },
  {
   "cell_type": "code",
   "execution_count": 16,
   "metadata": {},
   "outputs": [
    {
     "name": "stdout",
     "output_type": "stream",
     "text": [
      "              precision    recall  f1-score   support\n",
      "\n",
      "           0       0.84      0.94      0.89      5873\n",
      "           1       0.62      0.33      0.43      1627\n",
      "\n",
      "    accuracy                           0.81      7500\n",
      "   macro avg       0.73      0.64      0.66      7500\n",
      "weighted avg       0.79      0.81      0.79      7500\n",
      "\n",
      "KNeighborsClassifier confusion matrix:\n",
      " [[5546  327]\n",
      " [1089  538]]\n"
     ]
    }
   ],
   "source": [
    "y_pred=gs.predict(X_test)\n",
    "print(classification_report(y_test,y_pred))\n",
    "cm1=confusion_matrix(y_test,y_pred)\n",
    "print('KNeighborsClassifier confusion matrix:\\n', cm1)\n"
   ]
  },
  {
   "cell_type": "markdown",
   "metadata": {},
   "source": [
    "# RandomForestClassifier\n",
    "\n",
    "RandomForest denetimli bir öğrenme algoritmasıdır.Hiperparametre ayarı yapmadan bile, çoğu zaman büyük bir sonuç üreten, esnek, kullanımı kolay bir makine öğrenmesi algoritmasıdır. \n",
    "RandomForest, birden fazla karar ağacını oluşturur ve daha doğru ve istikrarlı bir tahmin elde etmek için onları birleştirir.\n",
    "\n",
    "Parametreleri:\n",
    "-n_estimators:Ormandaki ağaç sayısı\n",
    "-max_depth:Ağacın maksimum derinliği\n",
    "-random_state:Ağaç oluştururken kullanılan örneklerin önyüklemesinin rastgele olup olmadığını ve her düğümde en iyi bölünme aranırken göz önünde bulundurulacak özelliklerin örneklemesini kontrol eder.\n",
    "\n",
    "AVANTAJLARI VE DEZAVANTAJLARI\n",
    "Kullanışlı ve kullanımı kolay bir algoritma olarak kabul edilir, çünkü varsayılan hiperparametreler genellikle iyi bir tahmin sonucu oluşturur. Hiperparametre sayısı da o kadar yüksek değildir ve anlaşılması kolaydır.\n",
    "Dezavantajı, ormanda yeterince ağaç olması durumunda, sınıflandırıcının modele uymayacağıdır.\n",
    "\n"
   ]
  },
  {
   "cell_type": "code",
   "execution_count": 17,
   "metadata": {},
   "outputs": [
    {
     "name": "stderr",
     "output_type": "stream",
     "text": [
      "C:\\Users\\cemre\\Anaconda3\\lib\\site-packages\\sklearn\\ensemble\\forest.py:245: FutureWarning: The default value of n_estimators will change from 10 in version 0.20 to 100 in 0.22.\n",
      "  \"10 in version 0.20 to 100 in 0.22.\", FutureWarning)\n"
     ]
    },
    {
     "name": "stdout",
     "output_type": "stream",
     "text": [
      "RandomForestClassifier Train Score: 0.9793777777777778\n",
      "RandomForestClassifier Test Score: 0.8034666666666667\n"
     ]
    }
   ],
   "source": [
    "rfc=RandomForestClassifier()\n",
    "rfc.fit(X_train,y_train)\n",
    "print('RandomForestClassifier Train Score:', rfc.score(X_train,y_train))\n",
    "print('RandomForestClassifier Test Score:', rfc.score(X_test, y_test))"
   ]
  },
  {
   "cell_type": "code",
   "execution_count": 18,
   "metadata": {},
   "outputs": [
    {
     "name": "stdout",
     "output_type": "stream",
     "text": [
      "En iyi score 0.8208\n",
      "En iyi parametreler {'max_depth': 8, 'n_estimators': 200, 'random_state': 0}\n",
      "RandomForestClassifier Train Yeni Score: 0.8381333333333333\n",
      "RandomForestClassifier Test Yeni Score: 0.8208\n"
     ]
    }
   ],
   "source": [
    "parameters = {\n",
    "    'n_estimators'      : [50,100,200],\n",
    "    'max_depth'         : [8, 9, 10, 11, 12],\n",
    "    'random_state'      : [0],\n",
    "}\n",
    "\n",
    "gs1 = GridSearchCV(rfc,\n",
    "                 parameters,\n",
    "                 cv=3,\n",
    "                 )\n",
    "gs1_results = gs1.fit(X_train, y_train)\n",
    "print('En iyi score',gs1_results.best_score_)\n",
    "print('En iyi parametreler',gs1_results.best_params_)\n",
    "print('RandomForestClassifier Train Yeni Score:', gs1.score(X_train,y_train))\n",
    "print('RandomForestClassifier Test Yeni Score:', gs1.score(X_test,y_test))"
   ]
  },
  {
   "cell_type": "code",
   "execution_count": 19,
   "metadata": {},
   "outputs": [
    {
     "name": "stdout",
     "output_type": "stream",
     "text": [
      "              precision    recall  f1-score   support\n",
      "\n",
      "           0       0.84      0.95      0.89      5873\n",
      "           1       0.66      0.36      0.46      1627\n",
      "\n",
      "    accuracy                           0.82      7500\n",
      "   macro avg       0.75      0.65      0.68      7500\n",
      "weighted avg       0.80      0.82      0.80      7500\n",
      "\n",
      "RandomForestClassifier confusion matrix:\n",
      " [[5575  298]\n",
      " [1046  581]]\n"
     ]
    }
   ],
   "source": [
    "y_pred1=gs1.predict(X_test)\n",
    "print(classification_report(y_test,y_pred1))\n",
    "cm2=confusion_matrix(y_test,y_pred1)\n",
    "print('RandomForestClassifier confusion matrix:\\n', cm2)\n"
   ]
  },
  {
   "cell_type": "markdown",
   "metadata": {},
   "source": [
    "# SVC\n",
    "Support Vector Machine sınıflandırma için kullanılan yöntemlerden birisidir. Temel olarak iki sınıfı bir doğru veya düzlem ile birbirinden ayırmaya çalışır. Bu ayırmayı da sınırdaki elemanlara göre yapar.\n",
    "\n",
    "AVANTAJLARI:\n",
    "• Oldukça değişik veri kümesinde kullanılabilirler.\n",
    "• Değişik çekirdekler ile veriye uyumlu hale getirilebilirler.\n",
    "• Hem yüksek hem düşük boyutlu veriler için kullanılabilirler.\n",
    "\n",
    "DEZAVANTAJLARI:\n",
    "•Verimli değil.\n",
    "•Dikkatli şekilde verinin ve parametlerin normalize edilmesi gerek.\n",
    "•Tahminin neden yapıldığını anlamak ve anlatmak zordur.\n"
   ]
  },
  {
   "cell_type": "code",
   "execution_count": 20,
   "metadata": {},
   "outputs": [
    {
     "name": "stdout",
     "output_type": "stream",
     "text": [
      "SVC Train Score: 0.8096888888888889\n",
      "SVC Test Score: 0.8088\n",
      "              precision    recall  f1-score   support\n",
      "\n",
      "           0       0.82      0.97      0.89      5873\n",
      "           1       0.68      0.22      0.34      1627\n",
      "\n",
      "    accuracy                           0.81      7500\n",
      "   macro avg       0.75      0.60      0.61      7500\n",
      "weighted avg       0.79      0.81      0.77      7500\n",
      "\n",
      "SVC confusion matrix:\n",
      " [[5700  173]\n",
      " [1261  366]]\n"
     ]
    }
   ],
   "source": [
    "svc=SVC(kernel='linear', C=1)\n",
    "svc.fit(X_train,y_train)\n",
    "svc_pred=svc.predict(X_test)\n",
    "print('SVC Train Score:', svc.score(X_train,y_train))\n",
    "print('SVC Test Score:', svc.score(X_test, y_test))\n",
    "\n",
    "print(classification_report(y_test,svc_pred))\n",
    "cm3=confusion_matrix(y_test,svc_pred)\n",
    "print('SVC confusion matrix:\\n', cm3)\n"
   ]
  },
  {
   "cell_type": "markdown",
   "metadata": {},
   "source": [
    "# GaussianNB\n",
    "\n",
    "Naive Bayes; Bayes teoremin dayanan bir sınıflandırma tekniğidir. Sınıflandırma yaparken özellikleri birbirinden bağımsız olarak hesaba katar.\n",
    "\n",
    "Naïve Bayes sınıflandırmasında sisteme belirli bir oranda öğretilmiş veri sunulur. Öğretim için sunulan verilerin mutlaka bir sınıfı bulunmalıdır. Öğretilmiş veriler üzerinde yapılan olasılık işlemleri ile, sisteme sunulan yeni test verileri, daha önce elde edilmiş olasılık değerlerine göre işletvilir ve verilen test verisinin hangi kategoride olduğu tespit edilmeye çalışılır. Elbette öğretilmiş veri sayısı ne kadar çok ise, test verisinin gerçek kategorisini tespit etmek o kadar kesin olabilmektedir.\n",
    "\n",
    "AVANTAJLARI\n",
    "•Algoritmayı kodlamasınıj ve sonucunda ne çıkacağını tahmin etmesinin kolay olması\n",
    "•Elde edilen sonuçlar birbirinden bağımsız değişkenler kullanıldığında karmaşık algoritmalar ile eşdeğer nitelikte başarı sağlaması\n",
    "\n",
    "DEZAVANTAJLARI\n",
    "•Gerçek verilerdeki değişkenler birbirinden bağımsız verileri bulmanın çok zor olması problemi ve\n",
    "•Değişkenler arasında ilişkiyi bu algoritma ile gösteremiyor olmamız yatmaktadır.\n"
   ]
  },
  {
   "cell_type": "code",
   "execution_count": 21,
   "metadata": {
    "scrolled": true
   },
   "outputs": [
    {
     "name": "stdout",
     "output_type": "stream",
     "text": [
      "GaussianNB Train Score: 0.7239555555555556\n",
      "GaussianNB Test Score: 0.7149333333333333\n",
      "              precision    recall  f1-score   support\n",
      "\n",
      "           0       0.88      0.74      0.80      5873\n",
      "           1       0.40      0.64      0.49      1627\n",
      "\n",
      "    accuracy                           0.71      7500\n",
      "   macro avg       0.64      0.69      0.65      7500\n",
      "weighted avg       0.78      0.71      0.73      7500\n",
      "\n",
      "GaussianNB confusion matrix:\n",
      " [[4322 1551]\n",
      " [ 587 1040]]\n"
     ]
    }
   ],
   "source": [
    "gnb = GaussianNB()\n",
    "gnb.fit(X_train,y_train)\n",
    "print('GaussianNB Train Score:', gnb.score(X_train,y_train))\n",
    "print('GaussianNB Test Score:', gnb.score(X_test, y_test))\n",
    "y_pred2=gnb.predict(X_test)\n",
    "\n",
    "print(classification_report(y_test,y_pred2))\n",
    "cm4=confusion_matrix(y_test,y_pred2)\n",
    "print('GaussianNB confusion matrix:\\n', cm4)"
   ]
  },
  {
   "cell_type": "markdown",
   "metadata": {},
   "source": [
    "# LogisticRegression\n",
    "\n",
    "Logistic Regression ( Lojistik Regresyon ) sınıflandırma işlemi yapmaya yarayan bir regresyon yöntemidir. Kategorik veya sayısal verilerin sınıflandırılmasında kullanılır. Bağımlı değişkenin yani sonucun sadece 2 farklı değer alabilmesi durumda çalışır. ( Evet / Hayır, Erkek / Kadın, Şişman / Zayıf vs. )\n",
    "\n"
   ]
  },
  {
   "cell_type": "code",
   "execution_count": 22,
   "metadata": {},
   "outputs": [
    {
     "name": "stderr",
     "output_type": "stream",
     "text": [
      "C:\\Users\\cemre\\Anaconda3\\lib\\site-packages\\sklearn\\linear_model\\logistic.py:432: FutureWarning: Default solver will be changed to 'lbfgs' in 0.22. Specify a solver to silence this warning.\n",
      "  FutureWarning)\n"
     ]
    },
    {
     "name": "stdout",
     "output_type": "stream",
     "text": [
      "LogisticRegression Train Score: 0.8112\n",
      "LogisticRegression Test Score: 0.8093333333333333\n",
      "              precision    recall  f1-score   support\n",
      "\n",
      "           0       0.82      0.97      0.89      5873\n",
      "           1       0.68      0.23      0.35      1627\n",
      "\n",
      "    accuracy                           0.81      7500\n",
      "   macro avg       0.75      0.60      0.62      7500\n",
      "weighted avg       0.79      0.81      0.77      7500\n",
      "\n",
      "LogisticRegression confusion matrix:\n",
      " [[5691  182]\n",
      " [1248  379]]\n"
     ]
    }
   ],
   "source": [
    "log_reg = LogisticRegression()\n",
    "log_reg.fit(X_train,y_train)\n",
    "print('LogisticRegression Train Score:', log_reg.score(X_train, y_train))\n",
    "print('LogisticRegression Test Score:', log_reg.score(X_test, y_test))\n",
    "y_pred3=log_reg.predict(X_test)\n",
    "print(classification_report(y_test,y_pred3))\n",
    "cm5=confusion_matrix(y_test,y_pred3)\n",
    "print('LogisticRegression confusion matrix:\\n', cm5)"
   ]
  },
  {
   "cell_type": "markdown",
   "metadata": {},
   "source": [
    "# XGBClassifier\n",
    "XGBoost , Extreme Gradient Boost'un kısaltmasıdır; En iyi ağaç modelini bulmak için daha doğru yaklaşımlar kullanan Gradient Boostting metodunun özel bir uygulamasıdır.\n",
    "\n",
    "Özellikle yapılandırılmış verilerle, onu son derece başarılı kılan birkaç şık numara kullanır. En önemlileri:\n",
    "\n",
    "1.) ikinci dereceden gradyanları hesaplamak , yani gradyanların yönü ve kayıp fonksiyonumuzun asgari seviyesine nasıl ulaşılacağı hakkında daha fazla bilgi sağlayan , kayıp fonksiyonunun ikinci kısmi türevleri ( Newton'un metoduna benzer ). Düzenli gradyan yükseltme, temel modelimizin (örneğin karar ağacı) kayıp fonksiyonunu, genel modelin hatasını en aza indirmek için bir vekil olarak kullanırken, XGBoost, ikinci derece türevini yaklaşık olarak kullanır.\n",
    "\n",
    "2.) Ve model genellemesini geliştiren gelişmiş düzenlileştirme.\n",
    "\n",
    "XGBoost'un ek avantajları vardır: eğitim çok hızlıdır ve kümeler arasında paralelleştirilebilir / dağıtılabilir.\n",
    "\n",
    "\n",
    "\n",
    "\n",
    "\n"
   ]
  },
  {
   "cell_type": "code",
   "execution_count": 23,
   "metadata": {},
   "outputs": [
    {
     "name": "stdout",
     "output_type": "stream",
     "text": [
      "Knn Train Score: 0.8256\n",
      "Knn Test Score: 0.8194666666666667\n"
     ]
    }
   ],
   "source": [
    "xgb=XGBClassifier()\n",
    "xgb.fit(X_train,y_train)\n",
    "print('Knn Train Score:', xgb.score(X_train,y_train))\n",
    "print('Knn Test Score:', xgb.score(X_test,y_test))"
   ]
  },
  {
   "cell_type": "code",
   "execution_count": 24,
   "metadata": {},
   "outputs": [
    {
     "name": "stdout",
     "output_type": "stream",
     "text": [
      "En iyi score 0.8216\n",
      "En iyi parametreler {'gamma': 0.5, 'max_depth': 3, 'min_child_weight': 5, 'subsample': 0.8}\n",
      "XGBClassifier Train Yeni Score: 0.8252444444444444\n",
      "XGBClassifier Test Yeni Score: 0.8202666666666667\n"
     ]
    }
   ],
   "source": [
    "params = {\n",
    "        'min_child_weight': [1, 5, 10],\n",
    "        'gamma': [0.5, 1],\n",
    "        'subsample': [0.6, 0.8, 1.0],\n",
    "        'max_depth': [3, 4, 5]\n",
    "        }\n",
    "grids = GridSearchCV(xgb,\n",
    "                 params,\n",
    "                 cv=3,\n",
    "                 )\n",
    "grids_results = grids.fit(X_train, y_train)\n",
    "print('En iyi score',grids_results.best_score_)\n",
    "print('En iyi parametreler',grids_results.best_params_)\n",
    "print('XGBClassifier Train Yeni Score:', grids.score(X_train,y_train))\n",
    "print('XGBClassifier Test Yeni Score:', grids.score(X_test,y_test))"
   ]
  },
  {
   "cell_type": "code",
   "execution_count": 25,
   "metadata": {},
   "outputs": [
    {
     "name": "stdout",
     "output_type": "stream",
     "text": [
      "              precision    recall  f1-score   support\n",
      "\n",
      "           0       0.84      0.95      0.89      5873\n",
      "           1       0.66      0.35      0.46      1627\n",
      "\n",
      "    accuracy                           0.82      7500\n",
      "   macro avg       0.75      0.65      0.68      7500\n",
      "weighted avg       0.80      0.82      0.80      7500\n",
      "\n",
      "XGBClassifier confusion matrix:\n",
      " [[5579  294]\n",
      " [1054  573]]\n"
     ]
    }
   ],
   "source": [
    "y_predd=grids.predict(X_test)\n",
    "print(classification_report(y_test,y_predd))\n",
    "cm6=confusion_matrix(y_test,y_predd)\n",
    "print('XGBClassifier confusion matrix:\\n', cm6)"
   ]
  },
  {
   "cell_type": "code",
   "execution_count": null,
   "metadata": {},
   "outputs": [],
   "source": []
  }
 ],
 "metadata": {
  "kernelspec": {
   "display_name": "Python 3",
   "language": "python",
   "name": "python3"
  },
  "language_info": {
   "codemirror_mode": {
    "name": "ipython",
    "version": 3
   },
   "file_extension": ".py",
   "mimetype": "text/x-python",
   "name": "python",
   "nbconvert_exporter": "python",
   "pygments_lexer": "ipython3",
   "version": "3.7.3"
  }
 },
 "nbformat": 4,
 "nbformat_minor": 2
}
